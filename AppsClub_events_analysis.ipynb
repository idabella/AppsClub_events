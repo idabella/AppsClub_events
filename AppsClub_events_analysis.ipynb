{
 "cells": [
  {
   "cell_type": "markdown",
   "id": "b1aac035-b687-4dfe-a0dc-428a08ac05f0",
   "metadata": {},
   "source": [
    "### Step 1 : Importing necessary libraries :"
   ]
  },
  {
   "cell_type": "code",
   "execution_count": 1,
   "id": "55994b2c-18e9-4139-ac7f-a474f9cfc28d",
   "metadata": {},
   "outputs": [],
   "source": [
    "import numpy as np\n",
    "import pandas as pd\n",
    "import matplotlib.pyplot as plt\n",
    "import seaborn as sns"
   ]
  },
  {
   "cell_type": "markdown",
   "id": "ce7c499b-342a-4ce8-a746-cd820c335467",
   "metadata": {},
   "source": [
    "### Step 2 : Loaad the dataset : "
   ]
  },
  {
   "cell_type": "code",
   "execution_count": 2,
   "id": "07a880cf-476d-4b66-9af6-05db2372dd1f",
   "metadata": {},
   "outputs": [],
   "source": [
    "# load the dataset\n",
    "df=pd.read_csv(\"AppsClub_events_data.csv\")\n",
    "\n",
    "# Set 'Session ID' as the index \n",
    "df.set_index('Session ID',inplace=True)"
   ]
  },
  {
   "cell_type": "markdown",
   "id": "a12577d9-ba7f-4ed5-8190-7356444891bb",
   "metadata": {},
   "source": [
    "### Step 3 : Handling missing values :\n",
    "        - Chec for missing values :\n",
    "        - Fill missing numerical values with the average :\n",
    "        - Fill missing categorical values with the most frequent value :"
   ]
  },
  {
   "cell_type": "code",
   "execution_count": 3,
   "id": "b562a673-ebd6-4688-9917-e51e6d6abac0",
   "metadata": {},
   "outputs": [
    {
     "data": {
      "text/plain": [
       "Event Name         0\n",
       "Date               0\n",
       "Attendees Count    1\n",
       "Rating             3\n",
       "Speaker            0\n",
       "New Attendees      0\n",
       "Online/Offline     3\n",
       "Duration           0\n",
       "dtype: int64"
      ]
     },
     "execution_count": 3,
     "metadata": {},
     "output_type": "execute_result"
    }
   ],
   "source": [
    "# Chec for missing values :\n",
    "df.isnull().sum()"
   ]
  },
  {
   "cell_type": "code",
   "execution_count": 4,
   "id": "7b6cb8f6-b761-4a97-9560-c769e7cd804a",
   "metadata": {},
   "outputs": [
    {
     "name": "stderr",
     "output_type": "stream",
     "text": [
      "C:\\Users\\Windows\\AppData\\Local\\Temp\\ipykernel_18416\\1561049812.py:2: FutureWarning: A value is trying to be set on a copy of a DataFrame or Series through chained assignment using an inplace method.\n",
      "The behavior will change in pandas 3.0. This inplace method will never work because the intermediate object on which we are setting values always behaves as a copy.\n",
      "\n",
      "For example, when doing 'df[col].method(value, inplace=True)', try using 'df.method({col: value}, inplace=True)' or df[col] = df[col].method(value) instead, to perform the operation inplace on the original object.\n",
      "\n",
      "\n",
      "  df['Rating'].fillna(df['Rating'].mean(),inplace=True)\n",
      "C:\\Users\\Windows\\AppData\\Local\\Temp\\ipykernel_18416\\1561049812.py:3: FutureWarning: A value is trying to be set on a copy of a DataFrame or Series through chained assignment using an inplace method.\n",
      "The behavior will change in pandas 3.0. This inplace method will never work because the intermediate object on which we are setting values always behaves as a copy.\n",
      "\n",
      "For example, when doing 'df[col].method(value, inplace=True)', try using 'df.method({col: value}, inplace=True)' or df[col] = df[col].method(value) instead, to perform the operation inplace on the original object.\n",
      "\n",
      "\n",
      "  df['Attendees Count'].fillna(df['Attendees Count'].mean(),inplace=True)\n"
     ]
    }
   ],
   "source": [
    "# Fill missing numerical values with the average :\n",
    "df['Rating'].fillna(df['Rating'].mean(),inplace=True)\n",
    "df['Attendees Count'].fillna(df['Attendees Count'].mean(),inplace=True)\n"
   ]
  },
  {
   "cell_type": "code",
   "execution_count": 5,
   "id": "4cd15308-44cf-419c-ba72-ea6b84861190",
   "metadata": {},
   "outputs": [
    {
     "name": "stderr",
     "output_type": "stream",
     "text": [
      "C:\\Users\\Windows\\AppData\\Local\\Temp\\ipykernel_18416\\316453469.py:2: FutureWarning: A value is trying to be set on a copy of a DataFrame or Series through chained assignment using an inplace method.\n",
      "The behavior will change in pandas 3.0. This inplace method will never work because the intermediate object on which we are setting values always behaves as a copy.\n",
      "\n",
      "For example, when doing 'df[col].method(value, inplace=True)', try using 'df.method({col: value}, inplace=True)' or df[col] = df[col].method(value) instead, to perform the operation inplace on the original object.\n",
      "\n",
      "\n",
      "  df['Online/Offline'].fillna(df['Online/Offline'].mode()[0],inplace=True)\n"
     ]
    }
   ],
   "source": [
    "# Fill missing categorical values with the most frequent value :\n",
    "df['Online/Offline'].fillna(df['Online/Offline'].mode()[0],inplace=True)"
   ]
  },
  {
   "cell_type": "code",
   "execution_count": 6,
   "id": "dd212b91-8c87-4302-a25c-d1206c8af2af",
   "metadata": {},
   "outputs": [
    {
     "data": {
      "text/plain": [
       "Event Name         0\n",
       "Date               0\n",
       "Attendees Count    0\n",
       "Rating             0\n",
       "Speaker            0\n",
       "New Attendees      0\n",
       "Online/Offline     0\n",
       "Duration           0\n",
       "dtype: int64"
      ]
     },
     "execution_count": 6,
     "metadata": {},
     "output_type": "execute_result"
    }
   ],
   "source": [
    "# Verification :\n",
    "df.isnull().sum()"
   ]
  },
  {
   "cell_type": "markdown",
   "id": "ba91ca2b-5e99-4ebd-82cb-c0166aaf4a26",
   "metadata": {},
   "source": [
    "### Step 4 : Event Analysis :\n",
    "    - Group by name and calculate average attendees and rating :\n",
    "    - Compare online vs . offline events :"
   ]
  },
  {
   "cell_type": "code",
   "execution_count": 7,
   "id": "61d59dad-79eb-4816-b5c2-eba6663da5cf",
   "metadata": {},
   "outputs": [],
   "source": [
    "# Group by event name and calculate average attendance rating :\n",
    "event_analysis = df.groupby('Event Name').agg({\n",
    "    'Attendees Count':'mean',\n",
    "    'Rating':'mean'\n",
    "}).reset_index()"
   ]
  },
  {
   "cell_type": "code",
   "execution_count": 8,
   "id": "c3b5ae7f-9df2-420c-840e-6d7154630e9d",
   "metadata": {},
   "outputs": [
    {
     "data": {
      "text/html": [
       "<div>\n",
       "<style scoped>\n",
       "    .dataframe tbody tr th:only-of-type {\n",
       "        vertical-align: middle;\n",
       "    }\n",
       "\n",
       "    .dataframe tbody tr th {\n",
       "        vertical-align: top;\n",
       "    }\n",
       "\n",
       "    .dataframe thead th {\n",
       "        text-align: right;\n",
       "    }\n",
       "</style>\n",
       "<table border=\"1\" class=\"dataframe\">\n",
       "  <thead>\n",
       "    <tr style=\"text-align: right;\">\n",
       "      <th></th>\n",
       "      <th>Event Name</th>\n",
       "      <th>Attendees Count</th>\n",
       "      <th>Rating</th>\n",
       "    </tr>\n",
       "  </thead>\n",
       "  <tbody>\n",
       "    <tr>\n",
       "      <th>0</th>\n",
       "      <td>AppsChill</td>\n",
       "      <td>25.000000</td>\n",
       "      <td>4.500000</td>\n",
       "    </tr>\n",
       "    <tr>\n",
       "      <th>1</th>\n",
       "      <td>Biweekly Contest</td>\n",
       "      <td>20.000000</td>\n",
       "      <td>4.300000</td>\n",
       "    </tr>\n",
       "    <tr>\n",
       "      <th>2</th>\n",
       "      <td>CP Bootcamp</td>\n",
       "      <td>57.500000</td>\n",
       "      <td>4.700000</td>\n",
       "    </tr>\n",
       "    <tr>\n",
       "      <th>3</th>\n",
       "      <td>Conference</td>\n",
       "      <td>150.000000</td>\n",
       "      <td>5.000000</td>\n",
       "    </tr>\n",
       "    <tr>\n",
       "      <th>4</th>\n",
       "      <td>Cyber Security Foundations</td>\n",
       "      <td>31.166667</td>\n",
       "      <td>4.358527</td>\n",
       "    </tr>\n",
       "    <tr>\n",
       "      <th>5</th>\n",
       "      <td>Intro to CS</td>\n",
       "      <td>50.181818</td>\n",
       "      <td>4.184144</td>\n",
       "    </tr>\n",
       "    <tr>\n",
       "      <th>6</th>\n",
       "      <td>Intro to Data</td>\n",
       "      <td>26.250000</td>\n",
       "      <td>3.950000</td>\n",
       "    </tr>\n",
       "    <tr>\n",
       "      <th>7</th>\n",
       "      <td>Java</td>\n",
       "      <td>20.000000</td>\n",
       "      <td>4.133333</td>\n",
       "    </tr>\n",
       "    <tr>\n",
       "      <th>8</th>\n",
       "      <td>Let's Talk</td>\n",
       "      <td>80.000000</td>\n",
       "      <td>5.000000</td>\n",
       "    </tr>\n",
       "    <tr>\n",
       "      <th>9</th>\n",
       "      <td>Meet Our Laureat</td>\n",
       "      <td>70.000000</td>\n",
       "      <td>4.900000</td>\n",
       "    </tr>\n",
       "    <tr>\n",
       "      <th>10</th>\n",
       "      <td>PFA-PFE</td>\n",
       "      <td>100.000000</td>\n",
       "      <td>4.900000</td>\n",
       "    </tr>\n",
       "    <tr>\n",
       "      <th>11</th>\n",
       "      <td>Python Basics</td>\n",
       "      <td>34.879012</td>\n",
       "      <td>4.377778</td>\n",
       "    </tr>\n",
       "    <tr>\n",
       "      <th>12</th>\n",
       "      <td>Visite Code 212</td>\n",
       "      <td>70.000000</td>\n",
       "      <td>4.000000</td>\n",
       "    </tr>\n",
       "  </tbody>\n",
       "</table>\n",
       "</div>"
      ],
      "text/plain": [
       "                    Event Name  Attendees Count    Rating\n",
       "0                    AppsChill        25.000000  4.500000\n",
       "1             Biweekly Contest        20.000000  4.300000\n",
       "2                  CP Bootcamp        57.500000  4.700000\n",
       "3                   Conference       150.000000  5.000000\n",
       "4   Cyber Security Foundations        31.166667  4.358527\n",
       "5                  Intro to CS        50.181818  4.184144\n",
       "6                Intro to Data        26.250000  3.950000\n",
       "7                         Java        20.000000  4.133333\n",
       "8                   Let's Talk        80.000000  5.000000\n",
       "9             Meet Our Laureat        70.000000  4.900000\n",
       "10                     PFA-PFE       100.000000  4.900000\n",
       "11               Python Basics        34.879012  4.377778\n",
       "12             Visite Code 212        70.000000  4.000000"
      ]
     },
     "execution_count": 8,
     "metadata": {},
     "output_type": "execute_result"
    }
   ],
   "source": [
    "event_analysis"
   ]
  },
  {
   "cell_type": "code",
   "execution_count": null,
   "id": "1996dcf3-e19a-4c8a-a2ea-02e4d70a8991",
   "metadata": {},
   "outputs": [],
   "source": []
  },
  {
   "cell_type": "code",
   "execution_count": 9,
   "id": "751157c6-a7be-434a-bf30-4a7bb6c8e47e",
   "metadata": {},
   "outputs": [],
   "source": [
    "# compare online vs. offline event :\n",
    "\n",
    "online_offline_analysis = df.groupby('Online/Offline').agg({\n",
    "    'Attendees Count':'mean',\n",
    "    'Rating':'mean'\n",
    "}).reset_index()"
   ]
  },
  {
   "cell_type": "markdown",
   "id": "34435f01-1e76-4fdf-a064-206c039d1f2e",
   "metadata": {},
   "source": [
    "### Step 5 : Identify the Most least Popular events :\n",
    "    - Rank events by attendance count\n",
    "    - Top 5 most attended events\n",
    "    - Bottom 5 least attended events\n",
    "    - Create a bar chart for all events by attendance count"
   ]
  },
  {
   "cell_type": "code",
   "execution_count": 10,
   "id": "6789944d-37da-45cb-bf3d-aee1ac22f63c",
   "metadata": {},
   "outputs": [],
   "source": [
    "# rank events by attendance count :\n",
    "event_attendance = df.groupby('Event Name')['Attendees Count'].mean().sort_values(ascending=False)\n",
    "\n",
    "# Top most attended events :\n",
    "top_5_events = event_attendance.head(5)\n",
    "\n",
    "# Bottom 5 least attended events :\n",
    "Bottom_5_events = event_attendance.tail(5)"
   ]
  },
  {
   "cell_type": "code",
   "execution_count": 11,
   "id": "df04e244-aa32-484c-9a87-0ee8d19a6921",
   "metadata": {},
   "outputs": [
    {
     "data": {
      "text/plain": [
       "Event Name\n",
       "Conference          150.0\n",
       "PFA-PFE             100.0\n",
       "Let's Talk           80.0\n",
       "Visite Code 212      70.0\n",
       "Meet Our Laureat     70.0\n",
       "Name: Attendees Count, dtype: float64"
      ]
     },
     "execution_count": 11,
     "metadata": {},
     "output_type": "execute_result"
    }
   ],
   "source": [
    "top_5_events"
   ]
  },
  {
   "cell_type": "code",
   "execution_count": 12,
   "id": "38c7ce5b-7783-42bb-a8a0-001c21dd8945",
   "metadata": {},
   "outputs": [
    {
     "data": {
      "text/plain": [
       "Event Name\n",
       "Cyber Security Foundations    31.166667\n",
       "Intro to Data                 26.250000\n",
       "AppsChill                     25.000000\n",
       "Biweekly Contest              20.000000\n",
       "Java                          20.000000\n",
       "Name: Attendees Count, dtype: float64"
      ]
     },
     "execution_count": 12,
     "metadata": {},
     "output_type": "execute_result"
    }
   ],
   "source": [
    "Bottom_5_events\n"
   ]
  },
  {
   "cell_type": "code",
   "execution_count": 13,
   "id": "22dd4ca4-5db9-4958-a09f-67cec92b8ebd",
   "metadata": {},
   "outputs": [
    {
     "data": {
      "image/png": "[encoded data removed]",
      "text/plain": [
       "<Figure size 1000x600 with 1 Axes>"
      ]
     },
     "metadata": {},
     "output_type": "display_data"
    }
   ],
   "source": [
    "# Create a bar chart for all events by attendance count :\n",
    "plt.figure(figsize=(10,6))\n",
    "event_attendance.plot(kind='bar', colormap='viridis')\n",
    "plt.title('Event attendance Count')\n",
    "plt.xlabel('Event Name')\n",
    "plt.ylabel('average Attendance')\n",
    "plt.show()"
   ]
  },
  {
   "cell_type": "markdown",
   "id": "0c1c01a7-54da-4bca-9ab4-c62ecd98d8ae",
   "metadata": {},
   "source": [
    "### Step 6 : Analyse Event Duration vs. Feedback Score :\n",
    "    - Scatter plot for duration vs. rating"
   ]
  },
  {
   "cell_type": "code",
   "execution_count": 14,
   "id": "b2f5b10e-8374-4c38-a811-a9be4db5b0f0",
   "metadata": {},
   "outputs": [
    {
     "data": {
      "image/png": "[encoded data removed]",
      "text/plain": [
       "<Figure size 800x600 with 1 Axes>"
      ]
     },
     "metadata": {},
     "output_type": "display_data"
    }
   ],
   "source": [
    "# Scatter plot for duration vs . rating :\n",
    "plt.figure(figsize=(8,6))\n",
    "plt.scatter(df['Duration'],df['Rating'])\n",
    "plt.title('Event Duration vs. Feedback Score')\n",
    "plt.xlabel('Duration(minutes)')\n",
    "plt.ylabel('Rating')\n",
    "plt.show()"
   ]
  },
  {
   "cell_type": "markdown",
   "id": "011a21f7-f6ae-4997-899d-fcebf0da874f",
   "metadata": {},
   "source": [
    "### Step 7 : Count events organized by each member :\n"
   ]
  },
  {
   "cell_type": "code",
   "execution_count": 17,
   "id": "c67dc834-880d-4985-8af3-fcf7e0ca0a97",
   "metadata": {},
   "outputs": [
    {
     "name": "stdout",
     "output_type": "stream",
     "text": [
      "               Speaker  Number of Events\n",
      "0      Amine Ait Hamma                15\n",
      "1      Hasnae Amarmach                 9\n",
      "2          Ilyas Nmili                 8\n",
      "3       Broad Sec Cell                 6\n",
      "4   Nohaila El Idrissi                 4\n",
      "5  Youssef Taguejgalet                 4\n"
     ]
    }
   ],
   "source": [
    "# Count events organized by each member :\n",
    "\n",
    "events_by_speaker = df['Speaker'].value_counts().reset_index()\n",
    "events_by_speaker.columns = ['Speaker', 'Number of Events']\n",
    "\n",
    "print(events_by_speaker)"
   ]
  },
  {
   "cell_type": "markdown",
   "id": "37cb7676-f4ba-4485-a5cd-42641cef2ab9",
   "metadata": {},
   "source": [
    "### Step 8 : Identify the most Active member :"
   ]
  },
  {
   "cell_type": "code",
   "execution_count": 18,
   "id": "dcddb707-7e46-41f9-8f06-e3a3097e829d",
   "metadata": {},
   "outputs": [
    {
     "data": {
      "text/plain": [
       "Speaker    Amine Ait Hamma\n",
       "count                   15\n",
       "Name: 0, dtype: object"
      ]
     },
     "execution_count": 18,
     "metadata": {},
     "output_type": "execute_result"
    }
   ],
   "source": [
    "# most active member :\n",
    "\n",
    "most_active_member = events_per_speaker.iloc[0]\n",
    "most_active_member"
   ]
  },
  {
   "cell_type": "markdown",
   "id": "8cc5aa3e-fca4-4c7a-85a2-e08a2b38c540",
   "metadata": {},
   "source": [
    "### Step 9 : Best_Rated Organizing Member : \n",
    "    - Calculate the average rating per speaker .\n",
    "    - Find the highest rating ."
   ]
  },
  {
   "cell_type": "code",
   "execution_count": 19,
   "id": "3501ec5b-3ee2-4108-bb55-31d6d7500743",
   "metadata": {},
   "outputs": [
    {
     "data": {
      "text/html": [
       "<div>\n",
       "<style scoped>\n",
       "    .dataframe tbody tr th:only-of-type {\n",
       "        vertical-align: middle;\n",
       "    }\n",
       "\n",
       "    .dataframe tbody tr th {\n",
       "        vertical-align: top;\n",
       "    }\n",
       "\n",
       "    .dataframe thead th {\n",
       "        text-align: right;\n",
       "    }\n",
       "</style>\n",
       "<table border=\"1\" class=\"dataframe\">\n",
       "  <thead>\n",
       "    <tr style=\"text-align: right;\">\n",
       "      <th></th>\n",
       "      <th>Speaker</th>\n",
       "      <th>Rating</th>\n",
       "    </tr>\n",
       "  </thead>\n",
       "  <tbody>\n",
       "    <tr>\n",
       "      <th>0</th>\n",
       "      <td>Amine Ait Hamma</td>\n",
       "      <td>4.373333</td>\n",
       "    </tr>\n",
       "    <tr>\n",
       "      <th>1</th>\n",
       "      <td>Broad Sec Cell</td>\n",
       "      <td>4.358527</td>\n",
       "    </tr>\n",
       "    <tr>\n",
       "      <th>2</th>\n",
       "      <td>Hasnae Amarmach</td>\n",
       "      <td>4.180620</td>\n",
       "    </tr>\n",
       "    <tr>\n",
       "      <th>3</th>\n",
       "      <td>Ilyas Nmili</td>\n",
       "      <td>4.437500</td>\n",
       "    </tr>\n",
       "    <tr>\n",
       "      <th>4</th>\n",
       "      <td>Nohaila El Idrissi</td>\n",
       "      <td>3.950000</td>\n",
       "    </tr>\n",
       "    <tr>\n",
       "      <th>5</th>\n",
       "      <td>Youssef Taguejgalet</td>\n",
       "      <td>4.575000</td>\n",
       "    </tr>\n",
       "  </tbody>\n",
       "</table>\n",
       "</div>"
      ],
      "text/plain": [
       "               Speaker    Rating\n",
       "0      Amine Ait Hamma  4.373333\n",
       "1       Broad Sec Cell  4.358527\n",
       "2      Hasnae Amarmach  4.180620\n",
       "3          Ilyas Nmili  4.437500\n",
       "4   Nohaila El Idrissi  3.950000\n",
       "5  Youssef Taguejgalet  4.575000"
      ]
     },
     "execution_count": 19,
     "metadata": {},
     "output_type": "execute_result"
    }
   ],
   "source": [
    "# Calculate average Rating per Speaker :\n",
    "\n",
    "speaker_ratings = df.groupby('Speaker')['Rating'].mean().reset_index()\n",
    "speaker_ratings\n"
   ]
  },
  {
   "cell_type": "code",
   "execution_count": 20,
   "id": "9f01d223-4703-416b-9808-7b8f49735425",
   "metadata": {},
   "outputs": [
    {
     "data": {
      "text/plain": [
       "Speaker    Youssef Taguejgalet\n",
       "Rating                   4.575\n",
       "Name: 5, dtype: object"
      ]
     },
     "execution_count": 20,
     "metadata": {},
     "output_type": "execute_result"
    }
   ],
   "source": [
    "# Find the speaker with the highest average rating :\n",
    "\n",
    "best_rated_speaker = speaker_ratings.loc[speaker_ratings['Rating'].idxmax()]\n",
    "best_rated_speaker"
   ]
  },
  {
   "cell_type": "markdown",
   "id": "79c2a2e8-162a-4871-acad-80e02a51b7c0",
   "metadata": {},
   "source": [
    "### Step 10 : Visualizing New Atendee Trend Over Time :\n",
    "    - Sort the dataset by date :\n",
    "    - Line plot for new attendees over time :"
   ]
  },
  {
   "cell_type": "code",
   "execution_count": 21,
   "id": "ed321619-9be6-46e5-aeea-823917fffb9a",
   "metadata": {},
   "outputs": [],
   "source": [
    "# Sort the dataset by time :\n",
    "\n",
    "df['Date']=pd.to_datetime(df['Date'], format='%d-%b-%Y')\n",
    "df_sorted = df.sort_values('Date')"
   ]
  },
  {
   "cell_type": "code",
   "execution_count": 22,
   "id": "c99cd923-cc81-4af7-be6b-b1cf84f595bb",
   "metadata": {},
   "outputs": [
    {
     "data": {
      "text/html": [
       "<div>\n",
       "<style scoped>\n",
       "    .dataframe tbody tr th:only-of-type {\n",
       "        vertical-align: middle;\n",
       "    }\n",
       "\n",
       "    .dataframe tbody tr th {\n",
       "        vertical-align: top;\n",
       "    }\n",
       "\n",
       "    .dataframe thead th {\n",
       "        text-align: right;\n",
       "    }\n",
       "</style>\n",
       "<table border=\"1\" class=\"dataframe\">\n",
       "  <thead>\n",
       "    <tr style=\"text-align: right;\">\n",
       "      <th></th>\n",
       "      <th>Event Name</th>\n",
       "      <th>Date</th>\n",
       "      <th>Attendees Count</th>\n",
       "      <th>Rating</th>\n",
       "      <th>Speaker</th>\n",
       "      <th>New Attendees</th>\n",
       "      <th>Online/Offline</th>\n",
       "      <th>Duration</th>\n",
       "    </tr>\n",
       "    <tr>\n",
       "      <th>Session ID</th>\n",
       "      <th></th>\n",
       "      <th></th>\n",
       "      <th></th>\n",
       "      <th></th>\n",
       "      <th></th>\n",
       "      <th></th>\n",
       "      <th></th>\n",
       "      <th></th>\n",
       "    </tr>\n",
       "  </thead>\n",
       "  <tbody>\n",
       "    <tr>\n",
       "      <th>42</th>\n",
       "      <td>Meet Our Laureat</td>\n",
       "      <td>2024-10-05</td>\n",
       "      <td>70.0</td>\n",
       "      <td>4.9</td>\n",
       "      <td>Ilyas Nmili</td>\n",
       "      <td>30</td>\n",
       "      <td>Online</td>\n",
       "      <td>148</td>\n",
       "    </tr>\n",
       "    <tr>\n",
       "      <th>1</th>\n",
       "      <td>Intro to CS</td>\n",
       "      <td>2024-10-07</td>\n",
       "      <td>50.0</td>\n",
       "      <td>4.2</td>\n",
       "      <td>Ilyas Nmili</td>\n",
       "      <td>10</td>\n",
       "      <td>Offline</td>\n",
       "      <td>60</td>\n",
       "    </tr>\n",
       "    <tr>\n",
       "      <th>12</th>\n",
       "      <td>Python Basics</td>\n",
       "      <td>2024-10-08</td>\n",
       "      <td>80.0</td>\n",
       "      <td>4.6</td>\n",
       "      <td>Amine Ait Hamma</td>\n",
       "      <td>20</td>\n",
       "      <td>Offline</td>\n",
       "      <td>90</td>\n",
       "    </tr>\n",
       "    <tr>\n",
       "      <th>13</th>\n",
       "      <td>Python Basics</td>\n",
       "      <td>2024-10-12</td>\n",
       "      <td>10.0</td>\n",
       "      <td>4.6</td>\n",
       "      <td>Amine Ait Hamma</td>\n",
       "      <td>5</td>\n",
       "      <td>Online</td>\n",
       "      <td>120</td>\n",
       "    </tr>\n",
       "    <tr>\n",
       "      <th>28</th>\n",
       "      <td>Biweekly Contest</td>\n",
       "      <td>2024-10-12</td>\n",
       "      <td>20.0</td>\n",
       "      <td>4.0</td>\n",
       "      <td>Ilyas Nmili</td>\n",
       "      <td>5</td>\n",
       "      <td>Offline</td>\n",
       "      <td>180</td>\n",
       "    </tr>\n",
       "  </tbody>\n",
       "</table>\n",
       "</div>"
      ],
      "text/plain": [
       "                  Event Name       Date  Attendees Count  Rating  \\\n",
       "Session ID                                                         \n",
       "42          Meet Our Laureat 2024-10-05             70.0     4.9   \n",
       "1                Intro to CS 2024-10-07             50.0     4.2   \n",
       "12             Python Basics 2024-10-08             80.0     4.6   \n",
       "13             Python Basics 2024-10-12             10.0     4.6   \n",
       "28          Biweekly Contest 2024-10-12             20.0     4.0   \n",
       "\n",
       "                    Speaker  New Attendees Online/Offline  Duration  \n",
       "Session ID                                                           \n",
       "42              Ilyas Nmili             30         Online       148  \n",
       "1               Ilyas Nmili             10        Offline        60  \n",
       "12          Amine Ait Hamma             20        Offline        90  \n",
       "13          Amine Ait Hamma              5         Online       120  \n",
       "28              Ilyas Nmili              5        Offline       180  "
      ]
     },
     "execution_count": 22,
     "metadata": {},
     "output_type": "execute_result"
    }
   ],
   "source": [
    "df_sorted.head()"
   ]
  },
  {
   "cell_type": "code",
   "execution_count": 23,
   "id": "ded60121-1623-40cc-a8a0-cea613ead54d",
   "metadata": {},
   "outputs": [
    {
     "data": {
      "image/png": "[encoded data removed]",
      "text/plain": [
       "<Figure size 1000x600 with 1 Axes>"
      ]
     },
     "metadata": {},
     "output_type": "display_data"
    }
   ],
   "source": [
    "# Line plot for new attendees over time :\n",
    "\n",
    "plt.figure(figsize=(10,6))\n",
    "plt.plot(df_sorted['Date'], df_sorted['New Attendees'], marker='o')\n",
    "plt.title('New Attendees Trend Over Time')\n",
    "plt.xlabel('Date')\n",
    "plt.ylabel('New Attendees')\n",
    "plt.show()"
   ]
  }
 ],
 "metadata": {
  "kernelspec": {
   "display_name": "Python 3 (ipykernel)",
   "language": "python",
   "name": "python3"
  },
  "language_info": {
   "codemirror_mode": {
    "name": "ipython",
    "version": 3
   },
   "file_extension": ".py",
   "mimetype": "text/x-python",
   "name": "python",
   "nbconvert_exporter": "python",
   "pygments_lexer": "ipython3",
   "version": "3.13.0"
  }
 },
 "nbformat": 4,
 "nbformat_minor": 5
}
